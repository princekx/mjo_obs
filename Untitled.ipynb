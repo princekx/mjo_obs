{
 "cells": [
  {
   "cell_type": "code",
   "execution_count": 1,
   "metadata": {
    "collapsed": true
   },
   "outputs": [],
   "source": [
    "import urllib2  # the lib that handles the url stuff\n",
    "import numpy as np\n",
    "from datetime import datetime"
   ]
  },
  {
   "cell_type": "code",
   "execution_count": 2,
   "metadata": {
    "collapsed": true
   },
   "outputs": [],
   "source": [
    "target_url = 'http://www.bom.gov.au/climate/mjo/graphics/rmm.74toRealtime.txt'\n",
    "req = urllib2.Request(target_url, headers={'User-Agent' : \"Magic Browser\"})"
   ]
  },
  {
   "cell_type": "code",
   "execution_count": 3,
   "metadata": {
    "collapsed": true
   },
   "outputs": [],
   "source": [
    "data = urllib2.urlopen( req )\n",
    "lines = data.readlines()[2:]"
   ]
  },
  {
   "cell_type": "code",
   "execution_count": 4,
   "metadata": {
    "collapsed": true
   },
   "outputs": [],
   "source": [
    "rmm1s = []\n",
    "rmm2s = []\n",
    "dates_2d = []\n",
    "phases = []\n",
    "amps = []"
   ]
  },
  {
   "cell_type": "code",
   "execution_count": 5,
   "metadata": {
    "collapsed": false
   },
   "outputs": [],
   "source": [
    "year = np.array([int(line.split()[0]) for line in lines])\n",
    "month = np.array([int(line.split()[1]) for line in lines])\n",
    "day = np.array([int(line.split()[2]) for line in lines])\n",
    "pc1 = np.array([float(line.split()[3]) for line in lines])\n",
    "pc2 = np.array([float(line.split()[4]) for line in lines])\n",
    "pha = np.array([int(line.split()[5]) for line in lines])\n",
    "amp = np.array([float(line.split()[6]) for line in lines])"
   ]
  },
  {
   "cell_type": "code",
   "execution_count": 28,
   "metadata": {
    "collapsed": false
   },
   "outputs": [
    {
     "name": "stdout",
     "output_type": "stream",
     "text": [
      "<type 'datetime.datetime'> 1974-06-01T00:00:00.000000\n",
      "<type 'numpy.datetime64'>\n"
     ]
    }
   ],
   "source": [
    "dates = [datetime(year[i],month[i],day[i]) for i in range(10)]\n",
    "ndates = [np.datetime64(date) for date in dates]\n",
    "xdate = datetime(1974,6,7)\n",
    "print type(xdate), np.datetime64(dates[0])\n",
    "print type(np.datetime64(xdate))"
   ]
  },
  {
   "cell_type": "code",
   "execution_count": 30,
   "metadata": {
    "collapsed": false
   },
   "outputs": [
    {
     "data": {
      "text/plain": [
       "(array([6]),)"
      ]
     },
     "execution_count": 30,
     "metadata": {},
     "output_type": "execute_result"
    }
   ],
   "source": [
    "np.where(np.datetime64(xdate)==ndates)"
   ]
  },
  {
   "cell_type": "code",
   "execution_count": null,
   "metadata": {
    "collapsed": true
   },
   "outputs": [],
   "source": []
  }
 ],
 "metadata": {
  "kernelspec": {
   "display_name": "Python 2",
   "language": "python",
   "name": "python2"
  },
  "language_info": {
   "codemirror_mode": {
    "name": "ipython",
    "version": 2
   },
   "file_extension": ".py",
   "mimetype": "text/x-python",
   "name": "python",
   "nbconvert_exporter": "python",
   "pygments_lexer": "ipython2",
   "version": "2.7.12"
  }
 },
 "nbformat": 4,
 "nbformat_minor": 0
}
